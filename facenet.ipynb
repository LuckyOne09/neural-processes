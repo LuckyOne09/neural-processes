{
 "cells": [
  {
   "cell_type": "code",
   "execution_count": 1,
   "metadata": {},
   "outputs": [],
   "source": [
    "from facenet_pytorch import MTCNN, InceptionResnetV1\n",
    "import torch\n",
    "from torch.utils.data import DataLoader\n",
    "from torchvision import datasets\n",
    "import numpy as np\n",
    "import pandas as pd\n",
    "import os\n",
    "\n",
    "workers = 0 if os.name == 'nt' else 4"
   ]
  },
  {
   "cell_type": "code",
   "execution_count": 2,
   "metadata": {},
   "outputs": [],
   "source": [
    "device = torch.device('cuda:3' if torch.cuda.is_available() else 'cpu')"
   ]
  },
  {
   "cell_type": "code",
   "execution_count": 3,
   "metadata": {},
   "outputs": [],
   "source": [
    "mtcnn = MTCNN(\n",
    "    image_size=160, margin=0, min_face_size=20,\n",
    "    thresholds=[0.6, 0.7, 0.7], factor=0.709, post_process=True,\n",
    "    device=device\n",
    ")"
   ]
  },
  {
   "cell_type": "code",
   "execution_count": 4,
   "metadata": {},
   "outputs": [],
   "source": [
    "resnet = InceptionResnetV1(pretrained='vggface2').eval().to(device)"
   ]
  },
  {
   "cell_type": "code",
   "execution_count": 5,
   "metadata": {},
   "outputs": [],
   "source": [
    "# help(MTCNN)"
   ]
  },
  {
   "cell_type": "code",
   "execution_count": 44,
   "metadata": {},
   "outputs": [
    {
     "name": "stdout",
     "output_type": "stream",
     "text": [
      "['./datasets/FGNET/images/001A02.JPG', './datasets/FGNET/images/001A05.JPG', './datasets/FGNET/images/001A08.JPG', './datasets/FGNET/images/001A10.JPG', './datasets/FGNET/images/001A14.JPG', './datasets/FGNET/images/001A16.JPG', './datasets/FGNET/images/001A18.JPG', './datasets/FGNET/images/001A19.JPG', './datasets/FGNET/images/001A22.JPG', './datasets/FGNET/images/001A28.JPG', './datasets/FGNET/images/001A29.JPG', './datasets/FGNET/images/001A33.JPG', './datasets/FGNET/images/001A40.JPG', './datasets/FGNET/images/001A43a.JPG', './datasets/FGNET/images/001A43b.JPG', './datasets/FGNET/images/002A03.JPG', './datasets/FGNET/images/002A04.JPG', './datasets/FGNET/images/002A05.JPG', './datasets/FGNET/images/002A07.JPG', './datasets/FGNET/images/002A12.JPG', './datasets/FGNET/images/002A15.JPG', './datasets/FGNET/images/002A16.JPG', './datasets/FGNET/images/002A18.JPG', './datasets/FGNET/images/002A20.JPG', './datasets/FGNET/images/002A21.JPG', './datasets/FGNET/images/002A23.JPG', './datasets/FGNET/images/002A26.JPG', './datasets/FGNET/images/002A29.JPG', './datasets/FGNET/images/002A31.JPG', './datasets/FGNET/images/002A36.JPG', './datasets/FGNET/images/002A38.JPG', './datasets/FGNET/images/003A18.JPG', './datasets/FGNET/images/003A20.JPG', './datasets/FGNET/images/003A23.JPG', './datasets/FGNET/images/003A25.JPG', './datasets/FGNET/images/003A35.JPG', './datasets/FGNET/images/003A38.JPG', './datasets/FGNET/images/003A47.JPG', './datasets/FGNET/images/003A49.JPG', './datasets/FGNET/images/003A51.JPG', './datasets/FGNET/images/003A58.JPG', './datasets/FGNET/images/003A60.JPG', './datasets/FGNET/images/003A61.JPG', './datasets/FGNET/images/004A19.JPG', './datasets/FGNET/images/004A21.JPG', './datasets/FGNET/images/004A26.JPG', './datasets/FGNET/images/004A28.JPG', './datasets/FGNET/images/004A30.JPG', './datasets/FGNET/images/004A37.JPG', './datasets/FGNET/images/004A40.JPG', './datasets/FGNET/images/004A48.JPG', './datasets/FGNET/images/004A51.JPG', './datasets/FGNET/images/004A53.JPG', './datasets/FGNET/images/004A62.JPG', './datasets/FGNET/images/004A63.JPG', './datasets/FGNET/images/005A18.JPG', './datasets/FGNET/images/005A24.JPG', './datasets/FGNET/images/005A30.JPG', './datasets/FGNET/images/005A31.JPG', './datasets/FGNET/images/005A35.JPG', './datasets/FGNET/images/005A40.JPG', './datasets/FGNET/images/005A45.JPG', './datasets/FGNET/images/005A48.JPG', './datasets/FGNET/images/005A49.JPG', './datasets/FGNET/images/005A52.JPG', './datasets/FGNET/images/005A61.JPG', './datasets/FGNET/images/006A24.JPG', './datasets/FGNET/images/006A28.JPG', './datasets/FGNET/images/006A31.JPG', './datasets/FGNET/images/006A36.JPG', './datasets/FGNET/images/006A40.JPG', './datasets/FGNET/images/006A42.JPG', './datasets/FGNET/images/006A46.JPG', './datasets/FGNET/images/006A51.JPG', './datasets/FGNET/images/006A55.JPG', './datasets/FGNET/images/006A61.JPG', './datasets/FGNET/images/006A67.JPG', './datasets/FGNET/images/006A69.JPG', './datasets/FGNET/images/007A01.JPG', './datasets/FGNET/images/007A18.JPG', './datasets/FGNET/images/007A22.JPG', './datasets/FGNET/images/007A23.JPG', './datasets/FGNET/images/007A26.JPG', './datasets/FGNET/images/007A37.JPG', './datasets/FGNET/images/007A38.JPG', './datasets/FGNET/images/007A39.JPG', './datasets/FGNET/images/007A45.JPG', './datasets/FGNET/images/008A03.JPG', './datasets/FGNET/images/008A06.JPG', './datasets/FGNET/images/008A08.JPG', './datasets/FGNET/images/008A12.JPG', './datasets/FGNET/images/008A13.JPG', './datasets/FGNET/images/008A16.JPG', './datasets/FGNET/images/008A17.JPG', './datasets/FGNET/images/008A18.JPG', './datasets/FGNET/images/008A21.JPG', './datasets/FGNET/images/008A29.JPG', './datasets/FGNET/images/008A30.JPG', './datasets/FGNET/images/008A31.JPG', './datasets/FGNET/images/008A33.JPG', './datasets/FGNET/images/008A35.JPG', './datasets/FGNET/images/008A41.JPG', './datasets/FGNET/images/009A00.JPG', './datasets/FGNET/images/009A01.JPG', './datasets/FGNET/images/009A03.JPG', './datasets/FGNET/images/009A05.JPG', './datasets/FGNET/images/009A09.JPG', './datasets/FGNET/images/009A11.JPG', './datasets/FGNET/images/009A13.JPG', './datasets/FGNET/images/009A14.JPG', './datasets/FGNET/images/009A16a.JPG', './datasets/FGNET/images/009A16b.JPG', './datasets/FGNET/images/009A18.JPG', './datasets/FGNET/images/009A22a.JPG', './datasets/FGNET/images/009A22b.JPG', './datasets/FGNET/images/010A01.JPG', './datasets/FGNET/images/010A04.JPG', './datasets/FGNET/images/010A05.JPG', './datasets/FGNET/images/010A06.JPG', './datasets/FGNET/images/010A07a.JPG', './datasets/FGNET/images/010A07b.JPG', './datasets/FGNET/images/010A09.JPG', './datasets/FGNET/images/010A10.JPG', './datasets/FGNET/images/010A12.JPG', './datasets/FGNET/images/010A15.JPG', './datasets/FGNET/images/010A16.JPG', './datasets/FGNET/images/010A18.JPG', './datasets/FGNET/images/011A02.JPG', './datasets/FGNET/images/011A05.JPG', './datasets/FGNET/images/011A07.JPG', './datasets/FGNET/images/011A11.JPG', './datasets/FGNET/images/011A13.JPG', './datasets/FGNET/images/011A14.JPG', './datasets/FGNET/images/011A15.JPG', './datasets/FGNET/images/011A17.JPG', './datasets/FGNET/images/011A20.JPG', './datasets/FGNET/images/011A27.JPG', './datasets/FGNET/images/011A30.JPG', './datasets/FGNET/images/011A34.JPG', './datasets/FGNET/images/011A40.JPG', './datasets/FGNET/images/011A42.JPG', './datasets/FGNET/images/012A04.JPG', './datasets/FGNET/images/012A07.JPG', './datasets/FGNET/images/012A12.JPG', './datasets/FGNET/images/012A14.JPG', './datasets/FGNET/images/012A18.JPG', './datasets/FGNET/images/012A21.JPG', './datasets/FGNET/images/012A23.JPG', './datasets/FGNET/images/012A24.JPG', './datasets/FGNET/images/012A25.JPG', './datasets/FGNET/images/012A26.JPG', './datasets/FGNET/images/012A27.JPG', './datasets/FGNET/images/012A30.JPG', './datasets/FGNET/images/012A32.JPG', './datasets/FGNET/images/012A34.JPG', './datasets/FGNET/images/012A36.JPG', './datasets/FGNET/images/013A00.JPG', './datasets/FGNET/images/013A08.JPG', './datasets/FGNET/images/013A16.JPG', './datasets/FGNET/images/013A18.JPG', './datasets/FGNET/images/013A19.JPG', './datasets/FGNET/images/013A21.JPG', './datasets/FGNET/images/013A23.JPG', './datasets/FGNET/images/013A25.JPG', './datasets/FGNET/images/013A30.JPG', './datasets/FGNET/images/013A34.JPG', './datasets/FGNET/images/013A41.JPG', './datasets/FGNET/images/013A44.JPG', './datasets/FGNET/images/014A03.JPG', './datasets/FGNET/images/014A12.JPG', './datasets/FGNET/images/014A14.JPG', './datasets/FGNET/images/014A16.JPG', './datasets/FGNET/images/014A18.JPG', './datasets/FGNET/images/014A22.JPG', './datasets/FGNET/images/014A30.JPG', './datasets/FGNET/images/014A36.JPG', './datasets/FGNET/images/014A40.JPG', './datasets/FGNET/images/014A42.JPG', './datasets/FGNET/images/015A00.JPG', './datasets/FGNET/images/015A01.JPG', './datasets/FGNET/images/015A03.JPG', './datasets/FGNET/images/015A04.JPG', './datasets/FGNET/images/015A05.JPG', './datasets/FGNET/images/015A07.JPG', './datasets/FGNET/images/015A09.JPG', './datasets/FGNET/images/015A10.JPG', './datasets/FGNET/images/015A12.JPG', './datasets/FGNET/images/015A14.JPG', './datasets/FGNET/images/015A15.JPG', './datasets/FGNET/images/015A17.JPG', './datasets/FGNET/images/015A19.JPG', './datasets/FGNET/images/016A01.JPG', './datasets/FGNET/images/016A03.JPG', './datasets/FGNET/images/016A04.JPG', './datasets/FGNET/images/016A05.JPG', './datasets/FGNET/images/016A07.JPG', './datasets/FGNET/images/016A08.JPG', './datasets/FGNET/images/016A10.JPG', './datasets/FGNET/images/016A12.JPG', './datasets/FGNET/images/016A14.JPG', './datasets/FGNET/images/016A16.JPG', './datasets/FGNET/images/016A17.JPG', './datasets/FGNET/images/016A18.JPG', './datasets/FGNET/images/016A19.JPG', './datasets/FGNET/images/017A05.JPG', './datasets/FGNET/images/017A07.JPG', './datasets/FGNET/images/017A12.JPG', './datasets/FGNET/images/017A15.JPG', './datasets/FGNET/images/017A17.JPG', './datasets/FGNET/images/017A19.JPG', './datasets/FGNET/images/017A22.JPG', './datasets/FGNET/images/017A26.JPG', './datasets/FGNET/images/017A29.JPG', './datasets/FGNET/images/017A32.JPG', './datasets/FGNET/images/017A36.JPG', './datasets/FGNET/images/017A38.JPG', './datasets/FGNET/images/017A42.JPG', './datasets/FGNET/images/018A06.JPG', './datasets/FGNET/images/018A11.JPG', './datasets/FGNET/images/018A16.JPG', './datasets/FGNET/images/018A18.JPG', './datasets/FGNET/images/018A22.JPG', './datasets/FGNET/images/018A25.JPG', './datasets/FGNET/images/018A28.JPG', './datasets/FGNET/images/018A29.JPG', './datasets/FGNET/images/018A33.JPG', './datasets/FGNET/images/018A34.JPG', './datasets/FGNET/images/018A36.JPG', './datasets/FGNET/images/019A00.JPG', './datasets/FGNET/images/019A03.JPG', './datasets/FGNET/images/019A05.JPG', './datasets/FGNET/images/019A07.JPG', './datasets/FGNET/images/019A12.JPG', './datasets/FGNET/images/019A15.JPG', './datasets/FGNET/images/019A18.JPG', './datasets/FGNET/images/019A23.JPG', './datasets/FGNET/images/019A27.JPG', './datasets/FGNET/images/019A30.JPG', './datasets/FGNET/images/020A02.JPG', './datasets/FGNET/images/020A04.JPG', './datasets/FGNET/images/020A08.JPG', './datasets/FGNET/images/020A11.JPG', './datasets/FGNET/images/020A13.JPG', './datasets/FGNET/images/020A16.JPG', './datasets/FGNET/images/020A18.JPG', './datasets/FGNET/images/020A20.JPG', './datasets/FGNET/images/020A22.JPG', './datasets/FGNET/images/020A24.JPG', './datasets/FGNET/images/020A26.JPG', './datasets/FGNET/images/020A30.JPG', './datasets/FGNET/images/020A36.JPG', './datasets/FGNET/images/021A03.JPG', './datasets/FGNET/images/021A05.JPG', './datasets/FGNET/images/021A06.JPG', './datasets/FGNET/images/021A11.JPG', './datasets/FGNET/images/021A16.JPG', './datasets/FGNET/images/021A18.JPG', './datasets/FGNET/images/021A20.JPG', './datasets/FGNET/images/021A23.JPG', './datasets/FGNET/images/021A27.JPG', './datasets/FGNET/images/021A30.JPG', './datasets/FGNET/images/021A35.JPG', './datasets/FGNET/images/021A39.JPG', './datasets/FGNET/images/022A00.JPG', './datasets/FGNET/images/022A07.JPG', './datasets/FGNET/images/022A11.JPG', './datasets/FGNET/images/022A14.JPG', './datasets/FGNET/images/022A16.JPG', './datasets/FGNET/images/022A18.JPG', './datasets/FGNET/images/022A20.JPG', './datasets/FGNET/images/022A23.JPG', './datasets/FGNET/images/022A25.JPG', './datasets/FGNET/images/022A26.JPG', './datasets/FGNET/images/022A27.JPG', './datasets/FGNET/images/022A28.JPG', './datasets/FGNET/images/022A30.JPG', './datasets/FGNET/images/023A00.JPG', './datasets/FGNET/images/023A03.JPG', './datasets/FGNET/images/023A05.JPG', './datasets/FGNET/images/023A07.JPG', './datasets/FGNET/images/023A09.JPG', './datasets/FGNET/images/023A14.JPG', './datasets/FGNET/images/023A16.JPG', './datasets/FGNET/images/023A18.JPG', './datasets/FGNET/images/023A21.JPG', './datasets/FGNET/images/023A22.JPG', './datasets/FGNET/images/023A25.JPG', './datasets/FGNET/images/023A29.JPG', './datasets/FGNET/images/024A00.JPG', './datasets/FGNET/images/024A05.JPG', './datasets/FGNET/images/024A07.JPG', './datasets/FGNET/images/024A10.JPG', './datasets/FGNET/images/024A17.JPG', './datasets/FGNET/images/024A18.JPG', './datasets/FGNET/images/024A19.JPG', './datasets/FGNET/images/024A23.JPG', './datasets/FGNET/images/024A25.JPG', './datasets/FGNET/images/024A28.JPG', './datasets/FGNET/images/024A30.JPG', './datasets/FGNET/images/025A00.JPG', './datasets/FGNET/images/025A03.JPG', './datasets/FGNET/images/025A07.JPG', './datasets/FGNET/images/025A12.JPG', './datasets/FGNET/images/025A15.JPG', './datasets/FGNET/images/025A18.JPG', './datasets/FGNET/images/025A19.JPG', './datasets/FGNET/images/025A22.JPG', './datasets/FGNET/images/025A23.JPG', './datasets/FGNET/images/025A28.JPG', './datasets/FGNET/images/025A34.JPG', './datasets/FGNET/images/025A39.JPG', './datasets/FGNET/images/026A00.JPG', './datasets/FGNET/images/026A02.JPG', './datasets/FGNET/images/026A04.JPG', './datasets/FGNET/images/026A06.JPG', './datasets/FGNET/images/026A07.JPG', './datasets/FGNET/images/026A11.JPG', './datasets/FGNET/images/026A13.JPG', './datasets/FGNET/images/026A15.JPG', './datasets/FGNET/images/026A17.JPG', './datasets/FGNET/images/026A18.JPG', './datasets/FGNET/images/026A19.JPG', './datasets/FGNET/images/027A02.JPG', './datasets/FGNET/images/027A11.JPG', './datasets/FGNET/images/027A13.JPG', './datasets/FGNET/images/027A16.JPG', './datasets/FGNET/images/027A18.JPG', './datasets/FGNET/images/027A20.JPG', './datasets/FGNET/images/027A22.JPG', './datasets/FGNET/images/027A25.JPG', './datasets/FGNET/images/027A30.JPG', './datasets/FGNET/images/027A36.JPG', './datasets/FGNET/images/027A41.JPG', './datasets/FGNET/images/028A14.JPG', './datasets/FGNET/images/028A16.JPG', './datasets/FGNET/images/028A18.JPG', './datasets/FGNET/images/028A20.JPG', './datasets/FGNET/images/028A26.JPG', './datasets/FGNET/images/028A28.JPG', './datasets/FGNET/images/028A34.JPG', './datasets/FGNET/images/028A35.JPG', './datasets/FGNET/images/028A37.JPG', './datasets/FGNET/images/028A41.JPG', './datasets/FGNET/images/028A46.JPG', './datasets/FGNET/images/029A01.JPG', './datasets/FGNET/images/029A04.JPG', './datasets/FGNET/images/029A05.JPG', './datasets/FGNET/images/029A10.JPG', './datasets/FGNET/images/029A11.JPG', './datasets/FGNET/images/029A13.JPG', './datasets/FGNET/images/029A16.JPG', './datasets/FGNET/images/029A20.JPG', './datasets/FGNET/images/029A22.JPG', './datasets/FGNET/images/029A23.JPG', './datasets/FGNET/images/029A29.JPG', './datasets/FGNET/images/029A31.JPG', './datasets/FGNET/images/029A33.JPG', './datasets/FGNET/images/030A00.JPG', './datasets/FGNET/images/030A04.JPG', './datasets/FGNET/images/030A05.JPG', './datasets/FGNET/images/030A07.JPG', './datasets/FGNET/images/030A10.JPG', './datasets/FGNET/images/030A16.JPG', './datasets/FGNET/images/030A17.JPG', './datasets/FGNET/images/030A18.JPG', './datasets/FGNET/images/030A20.JPG', './datasets/FGNET/images/030A23.JPG', './datasets/FGNET/images/030A26.JPG', './datasets/FGNET/images/031A00.JPG', './datasets/FGNET/images/031A02.JPG', './datasets/FGNET/images/031A03.JPG', './datasets/FGNET/images/031A04.JPG', './datasets/FGNET/images/031A06.JPG', './datasets/FGNET/images/031A07.JPG', './datasets/FGNET/images/031A09.JPG', './datasets/FGNET/images/031A11.JPG', './datasets/FGNET/images/031A12.JPG', './datasets/FGNET/images/031A14.JPG', './datasets/FGNET/images/031A15.JPG', './datasets/FGNET/images/031A16.JPG', './datasets/FGNET/images/031A19.JPG', './datasets/FGNET/images/032A06.JPG', './datasets/FGNET/images/032A08.JPG', './datasets/FGNET/images/032A10.JPG', './datasets/FGNET/images/032A13.JPG', './datasets/FGNET/images/032A15.JPG', './datasets/FGNET/images/032A18.JPG', './datasets/FGNET/images/032A20.JPG', './datasets/FGNET/images/032A24.JPG', './datasets/FGNET/images/032A28.JPG', './datasets/FGNET/images/032A33.JPG', './datasets/FGNET/images/032A35.JPG', './datasets/FGNET/images/032A40.JPG', './datasets/FGNET/images/033A02.JPG', './datasets/FGNET/images/033A05.JPG', './datasets/FGNET/images/033A10.JPG', './datasets/FGNET/images/033A14.JPG', './datasets/FGNET/images/033A18.JPG', './datasets/FGNET/images/033A21.JPG', './datasets/FGNET/images/033A25.JPG', './datasets/FGNET/images/033A30.JPG', './datasets/FGNET/images/033A35.JPG', './datasets/FGNET/images/033A39.JPG', './datasets/FGNET/images/033A44.JPG', './datasets/FGNET/images/034A02.JPG', './datasets/FGNET/images/034A04.JPG', './datasets/FGNET/images/034A11.JPG', './datasets/FGNET/images/034A13.JPG', './datasets/FGNET/images/034A15.JPG', './datasets/FGNET/images/034A16.JPG', './datasets/FGNET/images/034A18.JPG', './datasets/FGNET/images/034A21.JPG', './datasets/FGNET/images/034A25.JPG', './datasets/FGNET/images/034A30.JPG', './datasets/FGNET/images/034A35.JPG', './datasets/FGNET/images/034A39.JPG', './datasets/FGNET/images/034A44.JPG', './datasets/FGNET/images/035A00.JPG', './datasets/FGNET/images/035A01.JPG', './datasets/FGNET/images/035A03.JPG', './datasets/FGNET/images/035A05.JPG', './datasets/FGNET/images/035A07.JPG', './datasets/FGNET/images/035A08.JPG', './datasets/FGNET/images/035A09.JPG', './datasets/FGNET/images/035A12.JPG', './datasets/FGNET/images/035A14.JPG', './datasets/FGNET/images/035A16.JPG', './datasets/FGNET/images/035A18.JPG', './datasets/FGNET/images/035A21.JPG', './datasets/FGNET/images/035A23a.JPG', './datasets/FGNET/images/035A23b.JPG', './datasets/FGNET/images/036A00.JPG', './datasets/FGNET/images/036A01.JPG', './datasets/FGNET/images/036A03.JPG', './datasets/FGNET/images/036A05.JPG', './datasets/FGNET/images/036A06.JPG', './datasets/FGNET/images/036A08.JPG', './datasets/FGNET/images/036A11.JPG', './datasets/FGNET/images/036A13.JPG', './datasets/FGNET/images/036A15.JPG', './datasets/FGNET/images/036A17.JPG', './datasets/FGNET/images/036A18.JPG', './datasets/FGNET/images/036A19.JPG', './datasets/FGNET/images/036A20.JPG', './datasets/FGNET/images/037A00.JPG', './datasets/FGNET/images/037A01.JPG', './datasets/FGNET/images/037A02.JPG', './datasets/FGNET/images/037A04.JPG', './datasets/FGNET/images/037A06.JPG', './datasets/FGNET/images/037A08.JPG', './datasets/FGNET/images/037A09.JPG', './datasets/FGNET/images/037A11.JPG', './datasets/FGNET/images/037A13.JPG', './datasets/FGNET/images/037A17.JPG', './datasets/FGNET/images/037A18.JPG', './datasets/FGNET/images/037A19.JPG', './datasets/FGNET/images/038A00.JPG', './datasets/FGNET/images/038A01.JPG', './datasets/FGNET/images/038A03.JPG', './datasets/FGNET/images/038A04.JPG', './datasets/FGNET/images/038A05.JPG', './datasets/FGNET/images/038A08.JPG', './datasets/FGNET/images/038A10.JPG', './datasets/FGNET/images/038A11.JPG', './datasets/FGNET/images/038A13.JPG', './datasets/FGNET/images/038A14.JPG', './datasets/FGNET/images/038A17.JPG', './datasets/FGNET/images/038A21.JPG', './datasets/FGNET/images/038A23.JPG', './datasets/FGNET/images/038A34.JPG', './datasets/FGNET/images/039A02.JPG', './datasets/FGNET/images/039A05.JPG', './datasets/FGNET/images/039A07.JPG', './datasets/FGNET/images/039A10.JPG', './datasets/FGNET/images/039A11.JPG', './datasets/FGNET/images/039A13.JPG', './datasets/FGNET/images/039A15.JPG', './datasets/FGNET/images/039A16.JPG', './datasets/FGNET/images/039A17.JPG', './datasets/FGNET/images/039A19.JPG', './datasets/FGNET/images/039A35.JPG', './datasets/FGNET/images/039A45.JPG', './datasets/FGNET/images/039A50.JPG', './datasets/FGNET/images/039A52.JPG', './datasets/FGNET/images/040A00.JPG', './datasets/FGNET/images/040A02.JPG', './datasets/FGNET/images/040A03a.JPG', './datasets/FGNET/images/040A03b.JPG', './datasets/FGNET/images/040A05.JPG', './datasets/FGNET/images/040A06.JPG', './datasets/FGNET/images/040A07.JPG', './datasets/FGNET/images/040A09.JPG', './datasets/FGNET/images/040A10.JPG', './datasets/FGNET/images/040A12.JPG', './datasets/FGNET/images/040A14.JPG', './datasets/FGNET/images/040A16.JPG', './datasets/FGNET/images/040A19.JPG', './datasets/FGNET/images/040A21.JPG', './datasets/FGNET/images/041A00.JPG', './datasets/FGNET/images/041A02.JPG', './datasets/FGNET/images/041A04.JPG', './datasets/FGNET/images/041A06.JPG', './datasets/FGNET/images/041A09.JPG', './datasets/FGNET/images/041A13.JPG', './datasets/FGNET/images/041A19.JPG', './datasets/FGNET/images/041A20.JPG', './datasets/FGNET/images/041A21.JPG', './datasets/FGNET/images/041A24.JPG', './datasets/FGNET/images/042A00.JPG', './datasets/FGNET/images/042A01.JPG', './datasets/FGNET/images/042A04.JPG', './datasets/FGNET/images/042A05.JPG', './datasets/FGNET/images/042A06.JPG', './datasets/FGNET/images/042A08.JPG', './datasets/FGNET/images/042A10.JPG', './datasets/FGNET/images/042A12.JPG', './datasets/FGNET/images/042A14.JPG', './datasets/FGNET/images/042A18.JPG', './datasets/FGNET/images/042A20.JPG', './datasets/FGNET/images/042A24.JPG', './datasets/FGNET/images/042A28.JPG', './datasets/FGNET/images/043A00.JPG', './datasets/FGNET/images/043A03.JPG', './datasets/FGNET/images/043A04.JPG', './datasets/FGNET/images/043A05.JPG', './datasets/FGNET/images/043A10.JPG', './datasets/FGNET/images/043A13.JPG', './datasets/FGNET/images/043A15.JPG', './datasets/FGNET/images/043A17.JPG', './datasets/FGNET/images/043A19.JPG', './datasets/FGNET/images/043A23.JPG', './datasets/FGNET/images/043A27.JPG', './datasets/FGNET/images/044A01.JPG', './datasets/FGNET/images/044A03.JPG', './datasets/FGNET/images/044A05.JPG', './datasets/FGNET/images/044A07.JPG', './datasets/FGNET/images/044A13.JPG', './datasets/FGNET/images/044A15.JPG', './datasets/FGNET/images/044A17.JPG', './datasets/FGNET/images/044A18.JPG', './datasets/FGNET/images/044A21.JPG', './datasets/FGNET/images/044A25.JPG', './datasets/FGNET/images/045A03.JPG', './datasets/FGNET/images/045A06.JPG', './datasets/FGNET/images/045A08.JPG', './datasets/FGNET/images/045A12.JPG', './datasets/FGNET/images/045A17.JPG', './datasets/FGNET/images/045A18.JPG', './datasets/FGNET/images/045A19.JPG', './datasets/FGNET/images/045A25.JPG', './datasets/FGNET/images/045A28.JPG', './datasets/FGNET/images/045A32.JPG', './datasets/FGNET/images/045A40.JPG', './datasets/FGNET/images/045A43.JPG', './datasets/FGNET/images/045A48.JPG', './datasets/FGNET/images/046A00.JPG', './datasets/FGNET/images/046A01.JPG', './datasets/FGNET/images/046A02.JPG', './datasets/FGNET/images/046A04.JPG', './datasets/FGNET/images/046A06.JPG', './datasets/FGNET/images/046A08.JPG', './datasets/FGNET/images/046A10.JPG', './datasets/FGNET/images/046A12.JPG', './datasets/FGNET/images/046A14.JPG', './datasets/FGNET/images/046A16.JPG', './datasets/FGNET/images/046A17.JPG', './datasets/FGNET/images/046A18.JPG', './datasets/FGNET/images/046A20.JPG', './datasets/FGNET/images/047A05.JPG', './datasets/FGNET/images/047A06.JPG', './datasets/FGNET/images/047A09.JPG', './datasets/FGNET/images/047A11.JPG', './datasets/FGNET/images/047A12.JPG', './datasets/FGNET/images/047A13.JPG', './datasets/FGNET/images/047A15.JPG', './datasets/FGNET/images/047A18.JPG', './datasets/FGNET/images/047A20.JPG', './datasets/FGNET/images/047A23.JPG', './datasets/FGNET/images/047A27.JPG', './datasets/FGNET/images/047A33.JPG', './datasets/FGNET/images/047A45.JPG', './datasets/FGNET/images/047A55.JPG', './datasets/FGNET/images/048A00.JPG', './datasets/FGNET/images/048A09.JPG', './datasets/FGNET/images/048A10.JPG', './datasets/FGNET/images/048A11.JPG', './datasets/FGNET/images/048A15.JPG', './datasets/FGNET/images/048A16.JPG', './datasets/FGNET/images/048A17.JPG', './datasets/FGNET/images/048A18.JPG', './datasets/FGNET/images/048A27.JPG', './datasets/FGNET/images/048A30.JPG', './datasets/FGNET/images/048A33.JPG', './datasets/FGNET/images/048A46.JPG', './datasets/FGNET/images/048A49.JPG', './datasets/FGNET/images/048A50.JPG', './datasets/FGNET/images/048A52.JPG', './datasets/FGNET/images/048A54.JPG', './datasets/FGNET/images/049A04.JPG', './datasets/FGNET/images/049A05.JPG', './datasets/FGNET/images/049A06.JPG', './datasets/FGNET/images/049A07.JPG', './datasets/FGNET/images/049A08.JPG', './datasets/FGNET/images/049A10.JPG', './datasets/FGNET/images/049A12.JPG', './datasets/FGNET/images/049A15.JPG', './datasets/FGNET/images/049A16.JPG', './datasets/FGNET/images/049A17.JPG', './datasets/FGNET/images/050A00.JPG', './datasets/FGNET/images/050A03.JPG', './datasets/FGNET/images/050A06.JPG', './datasets/FGNET/images/050A10.JPG', './datasets/FGNET/images/050A14.JPG', './datasets/FGNET/images/050A16.JPG', './datasets/FGNET/images/050A18.JPG', './datasets/FGNET/images/050A22.JPG', './datasets/FGNET/images/051A00.JPG', './datasets/FGNET/images/051A02.JPG', './datasets/FGNET/images/051A05.JPG', './datasets/FGNET/images/051A08.JPG', './datasets/FGNET/images/051A12.JPG', './datasets/FGNET/images/051A14.JPG', './datasets/FGNET/images/051A15.JPG', './datasets/FGNET/images/051A16.JPG', './datasets/FGNET/images/051A17.JPG', './datasets/FGNET/images/051A18.JPG', './datasets/FGNET/images/051A24.JPG', './datasets/FGNET/images/052A02.JPG', './datasets/FGNET/images/052A04.JPG', './datasets/FGNET/images/052A07.JPG', './datasets/FGNET/images/052A10.JPG', './datasets/FGNET/images/052A13.JPG', './datasets/FGNET/images/052A14.JPG', './datasets/FGNET/images/052A16.JPG', './datasets/FGNET/images/052A17.JPG', './datasets/FGNET/images/052A18.JPG', './datasets/FGNET/images/052A19.JPG', './datasets/FGNET/images/052A20.JPG', './datasets/FGNET/images/053A00.JPG', './datasets/FGNET/images/053A01.JPG', './datasets/FGNET/images/053A02.JPG', './datasets/FGNET/images/053A03.JPG', './datasets/FGNET/images/053A04.JPG', './datasets/FGNET/images/053A06.JPG', './datasets/FGNET/images/053A08.JPG', './datasets/FGNET/images/053A10.JPG', './datasets/FGNET/images/053A11.JPG', './datasets/FGNET/images/053A12.JPG', './datasets/FGNET/images/053A13.JPG', './datasets/FGNET/images/053A15.JPG', './datasets/FGNET/images/053A18.JPG', './datasets/FGNET/images/054A00.JPG', './datasets/FGNET/images/054A02.JPG', './datasets/FGNET/images/054A04.JPG', './datasets/FGNET/images/054A06.JPG', './datasets/FGNET/images/054A09.JPG', './datasets/FGNET/images/054A10.JPG', './datasets/FGNET/images/054A11.JPG', './datasets/FGNET/images/054A12.JPG', './datasets/FGNET/images/054A13.JPG', './datasets/FGNET/images/054A16.JPG', './datasets/FGNET/images/054A17.JPG', './datasets/FGNET/images/054A18.JPG', './datasets/FGNET/images/054A19.JPG', './datasets/FGNET/images/055A04.JPG', './datasets/FGNET/images/055A05.JPG', './datasets/FGNET/images/055A06.JPG', './datasets/FGNET/images/055A08.JPG', './datasets/FGNET/images/055A12.JPG', './datasets/FGNET/images/055A14.JPG', './datasets/FGNET/images/055A22.JPG', './datasets/FGNET/images/055A23.JPG', './datasets/FGNET/images/056A01.JPG', './datasets/FGNET/images/056A02.JPG', './datasets/FGNET/images/056A03.JPG', './datasets/FGNET/images/056A04.JPG', './datasets/FGNET/images/056A06.JPG', './datasets/FGNET/images/056A10.JPG', './datasets/FGNET/images/056A12.JPG', './datasets/FGNET/images/056A15.JPG', './datasets/FGNET/images/057A00.JPG', './datasets/FGNET/images/057A05.JPG', './datasets/FGNET/images/057A06.JPG', './datasets/FGNET/images/057A07.JPG', './datasets/FGNET/images/057A12.JPG', './datasets/FGNET/images/057A16.JPG', './datasets/FGNET/images/057A17.JPG', './datasets/FGNET/images/057A18.JPG', './datasets/FGNET/images/057A23.JPG', './datasets/FGNET/images/057A25.JPG', './datasets/FGNET/images/058A00.JPG', './datasets/FGNET/images/058A01.JPG', './datasets/FGNET/images/058A02.JPG', './datasets/FGNET/images/058A03.JPG', './datasets/FGNET/images/058A04.JPG', './datasets/FGNET/images/058A05.JPG', './datasets/FGNET/images/058A06.JPG', './datasets/FGNET/images/058A10.JPG', './datasets/FGNET/images/058A13.JPG', './datasets/FGNET/images/058A15.JPG', './datasets/FGNET/images/058A17.JPG', './datasets/FGNET/images/059A02a.JPG', './datasets/FGNET/images/059A02b.JPG', './datasets/FGNET/images/059A03.JPG', './datasets/FGNET/images/059A04.JPG', './datasets/FGNET/images/059A06.JPG', './datasets/FGNET/images/059A07.JPG', './datasets/FGNET/images/059A12.JPG', './datasets/FGNET/images/059A14.JPG', './datasets/FGNET/images/059A16.JPG', './datasets/FGNET/images/060A02.JPG', './datasets/FGNET/images/060A04.JPG', './datasets/FGNET/images/060A05.JPG', './datasets/FGNET/images/060A06.JPG', './datasets/FGNET/images/060A07.JPG', './datasets/FGNET/images/060A08.JPG', './datasets/FGNET/images/060A10.JPG', './datasets/FGNET/images/060A11.JPG', './datasets/FGNET/images/060A12.JPG', './datasets/FGNET/images/060A17.JPG', './datasets/FGNET/images/060A19.JPG', './datasets/FGNET/images/060A20.JPG', './datasets/FGNET/images/061A04.JPG', './datasets/FGNET/images/061A06.JPG', './datasets/FGNET/images/061A07.JPG', './datasets/FGNET/images/061A10.JPG', './datasets/FGNET/images/061A15.JPG', './datasets/FGNET/images/061A17.JPG', './datasets/FGNET/images/061A18.JPG', './datasets/FGNET/images/061A19.JPG', './datasets/FGNET/images/061A25.JPG', './datasets/FGNET/images/061A26.JPG', './datasets/FGNET/images/061A29.JPG', './datasets/FGNET/images/061A30.JPG', './datasets/FGNET/images/061A32.JPG', './datasets/FGNET/images/062A03.JPG', './datasets/FGNET/images/062A15.JPG', './datasets/FGNET/images/062A16.JPG', './datasets/FGNET/images/062A18.JPG', './datasets/FGNET/images/062A30.JPG', './datasets/FGNET/images/062A35.JPG', './datasets/FGNET/images/062A38.JPG', './datasets/FGNET/images/062A41.JPG', './datasets/FGNET/images/062A45.JPG', './datasets/FGNET/images/062A47.JPG', './datasets/FGNET/images/062A53.JPG', './datasets/FGNET/images/062A54.JPG', './datasets/FGNET/images/063A00.JPG', './datasets/FGNET/images/063A02.JPG', './datasets/FGNET/images/063A04.JPG', './datasets/FGNET/images/063A08.JPG', './datasets/FGNET/images/063A09.JPG', './datasets/FGNET/images/063A18.JPG', './datasets/FGNET/images/063A20.JPG', './datasets/FGNET/images/063A22.JPG', './datasets/FGNET/images/063A25.JPG', './datasets/FGNET/images/063A33.JPG', './datasets/FGNET/images/064A01.JPG', './datasets/FGNET/images/064A03.JPG', './datasets/FGNET/images/064A04.JPG', './datasets/FGNET/images/064A10.JPG', './datasets/FGNET/images/064A15.JPG', './datasets/FGNET/images/064A19.JPG', './datasets/FGNET/images/065A02a.JPG', './datasets/FGNET/images/065A02b.JPG', './datasets/FGNET/images/065A03a.JPG', './datasets/FGNET/images/065A03b.JPG', './datasets/FGNET/images/065A04.JPG', './datasets/FGNET/images/065A06a.JPG', './datasets/FGNET/images/065A06b.JPG', './datasets/FGNET/images/065A07a.JPG', './datasets/FGNET/images/065A07b.JPG', './datasets/FGNET/images/065A08.JPG', './datasets/FGNET/images/065A09.JPG', './datasets/FGNET/images/065A10.JPG', './datasets/FGNET/images/065A11.JPG', './datasets/FGNET/images/065A12.JPG', './datasets/FGNET/images/065A13.JPG', './datasets/FGNET/images/066A00.JPG', './datasets/FGNET/images/066A02a.JPG', './datasets/FGNET/images/066A02b.JPG', './datasets/FGNET/images/066A03.JPG', './datasets/FGNET/images/066A04.JPG', './datasets/FGNET/images/066A06a.JPG', './datasets/FGNET/images/066A06b.JPG', './datasets/FGNET/images/066A07.JPG', './datasets/FGNET/images/066A08.JPG', './datasets/FGNET/images/066A09.JPG', './datasets/FGNET/images/066A10.JPG', './datasets/FGNET/images/066A11.JPG', './datasets/FGNET/images/067A04.JPG', './datasets/FGNET/images/067A14.JPG', './datasets/FGNET/images/067A17.JPG', './datasets/FGNET/images/067A21.JPG', './datasets/FGNET/images/067A23.JPG', './datasets/FGNET/images/067A26.JPG', './datasets/FGNET/images/067A28.JPG', './datasets/FGNET/images/067A30.JPG', './datasets/FGNET/images/067A33.JPG', './datasets/FGNET/images/067A39.JPG', './datasets/FGNET/images/068A00.JPG', './datasets/FGNET/images/068A03.JPG', './datasets/FGNET/images/068A04.JPG', './datasets/FGNET/images/068A09.JPG', './datasets/FGNET/images/068A10a.JPG', './datasets/FGNET/images/068A10b.JPG', './datasets/FGNET/images/068A11.JPG', './datasets/FGNET/images/068A12.JPG', './datasets/FGNET/images/068A13.JPG', './datasets/FGNET/images/068A14.JPG', './datasets/FGNET/images/069A00.JPG', './datasets/FGNET/images/069A02.JPG', './datasets/FGNET/images/069A03.JPG', './datasets/FGNET/images/069A04.JPG', './datasets/FGNET/images/069A05.JPG', './datasets/FGNET/images/069A06.JPG', './datasets/FGNET/images/069A07.JPG', './datasets/FGNET/images/069A09.JPG', './datasets/FGNET/images/069A10.JPG', './datasets/FGNET/images/069A11.JPG', './datasets/FGNET/images/069A13.JPG', './datasets/FGNET/images/070A00.JPG', './datasets/FGNET/images/070A01.JPG', './datasets/FGNET/images/070A02.JPG', './datasets/FGNET/images/070A03.JPG', './datasets/FGNET/images/070A05.JPG', './datasets/FGNET/images/070A06.JPG', './datasets/FGNET/images/070A07.JPG', './datasets/FGNET/images/070A08.JPG', './datasets/FGNET/images/070A09.JPG', './datasets/FGNET/images/070A12.JPG', './datasets/FGNET/images/070A14.JPG', './datasets/FGNET/images/071A00.JPG', './datasets/FGNET/images/071A10.JPG', './datasets/FGNET/images/071A18.JPG', './datasets/FGNET/images/071A22.JPG', './datasets/FGNET/images/071A23.JPG', './datasets/FGNET/images/071A24.JPG', './datasets/FGNET/images/071A27.JPG', './datasets/FGNET/images/071A35.JPG', './datasets/FGNET/images/071A40.JPG', './datasets/FGNET/images/071A42.JPG', './datasets/FGNET/images/071A43.JPG', './datasets/FGNET/images/071A44.JPG', './datasets/FGNET/images/071A45.JPG', './datasets/FGNET/images/072A02.JPG', './datasets/FGNET/images/072A07.JPG', './datasets/FGNET/images/072A11.JPG', './datasets/FGNET/images/072A13.JPG', './datasets/FGNET/images/072A14.JPG', './datasets/FGNET/images/072A17.JPG', './datasets/FGNET/images/072A19.JPG', './datasets/FGNET/images/072A21.JPG', './datasets/FGNET/images/072A25.JPG', './datasets/FGNET/images/072A27.JPG', './datasets/FGNET/images/072A29.JPG', './datasets/FGNET/images/072A34.JPG', './datasets/FGNET/images/072A41.JPG', './datasets/FGNET/images/072A45.JPG', './datasets/FGNET/images/073A00.JPG', './datasets/FGNET/images/073A01.JPG', './datasets/FGNET/images/073A02.JPG', './datasets/FGNET/images/073A03.JPG', './datasets/FGNET/images/073A04.JPG', './datasets/FGNET/images/073A05.JPG', './datasets/FGNET/images/073A06.JPG', './datasets/FGNET/images/073A07.JPG', './datasets/FGNET/images/073A08.JPG', './datasets/FGNET/images/073A09.JPG', './datasets/FGNET/images/073A11.JPG', './datasets/FGNET/images/073A12.JPG', './datasets/FGNET/images/073A13.JPG', './datasets/FGNET/images/073A14.JPG', './datasets/FGNET/images/073A15.JPG', './datasets/FGNET/images/073A16.JPG', './datasets/FGNET/images/074A00.JPG', './datasets/FGNET/images/074A01.JPG', './datasets/FGNET/images/074A02.JPG', './datasets/FGNET/images/074A03.JPG', './datasets/FGNET/images/074A04.JPG', './datasets/FGNET/images/074A05.JPG', './datasets/FGNET/images/074A06.JPG', './datasets/FGNET/images/074A07.JPG', './datasets/FGNET/images/074A08.JPG', './datasets/FGNET/images/074A09.JPG', './datasets/FGNET/images/074A10.JPG', './datasets/FGNET/images/074A11.JPG', './datasets/FGNET/images/074A12.JPG', './datasets/FGNET/images/074A13.JPG', './datasets/FGNET/images/074A14.JPG', './datasets/FGNET/images/074A15.JPG', './datasets/FGNET/images/075A00.JPG', './datasets/FGNET/images/075A01.JPG', './datasets/FGNET/images/075A02.JPG', './datasets/FGNET/images/075A03.JPG', './datasets/FGNET/images/075A05.JPG', './datasets/FGNET/images/075A06.JPG', './datasets/FGNET/images/075A07.JPG', './datasets/FGNET/images/075A08.JPG', './datasets/FGNET/images/075A10.JPG', './datasets/FGNET/images/075A11.JPG', './datasets/FGNET/images/076A00.JPG', './datasets/FGNET/images/076A01.JPG', './datasets/FGNET/images/076A02.JPG', './datasets/FGNET/images/076A03.JPG', './datasets/FGNET/images/076A04.JPG', './datasets/FGNET/images/076A05.JPG', './datasets/FGNET/images/076A06.JPG', './datasets/FGNET/images/076A07.JPG', './datasets/FGNET/images/076A08.JPG', './datasets/FGNET/images/076A09.JPG', './datasets/FGNET/images/076A10.JPG', './datasets/FGNET/images/076A11.JPG', './datasets/FGNET/images/076A12.JPG', './datasets/FGNET/images/076A13.JPG', './datasets/FGNET/images/076A14.JPG', './datasets/FGNET/images/076A15.JPG', './datasets/FGNET/images/076A16.JPG', './datasets/FGNET/images/076A17.JPG', './datasets/FGNET/images/077A00.JPG', './datasets/FGNET/images/077A01.JPG', './datasets/FGNET/images/077A02.JPG', './datasets/FGNET/images/077A03.JPG', './datasets/FGNET/images/077A04.JPG', './datasets/FGNET/images/077A06.JPG', './datasets/FGNET/images/077A07.JPG', './datasets/FGNET/images/077A08.JPG', './datasets/FGNET/images/077A09.JPG', './datasets/FGNET/images/077A10.JPG', './datasets/FGNET/images/077A11.JPG', './datasets/FGNET/images/077A12.JPG', './datasets/FGNET/images/077A13.JPG', './datasets/FGNET/images/077A14.JPG', './datasets/FGNET/images/077A15.JPG', './datasets/FGNET/images/077A16.JPG', './datasets/FGNET/images/078A00.JPG', './datasets/FGNET/images/078A01.JPG', './datasets/FGNET/images/078A02.JPG', './datasets/FGNET/images/078A03.JPG', './datasets/FGNET/images/078A04.JPG', './datasets/FGNET/images/078A05.JPG', './datasets/FGNET/images/078A06.JPG', './datasets/FGNET/images/078A07.JPG', './datasets/FGNET/images/078A08.JPG', './datasets/FGNET/images/078A09.JPG', './datasets/FGNET/images/078A10.JPG', './datasets/FGNET/images/078A11.JPG', './datasets/FGNET/images/078A12.JPG', './datasets/FGNET/images/078A13.JPG', './datasets/FGNET/images/078A14.JPG', './datasets/FGNET/images/078A15.JPG', './datasets/FGNET/images/079A00.JPG', './datasets/FGNET/images/079A01.JPG', './datasets/FGNET/images/079A02.JPG', './datasets/FGNET/images/079A03.JPG', './datasets/FGNET/images/079A04.JPG', './datasets/FGNET/images/079A05.JPG', './datasets/FGNET/images/079A06.JPG', './datasets/FGNET/images/079A07.JPG', './datasets/FGNET/images/079A08.JPG', './datasets/FGNET/images/079A09.JPG', './datasets/FGNET/images/079A10.JPG', './datasets/FGNET/images/079A11.JPG', './datasets/FGNET/images/079A12.JPG', './datasets/FGNET/images/079A13.JPG', './datasets/FGNET/images/080A00.JPG', './datasets/FGNET/images/080A01.JPG', './datasets/FGNET/images/080A02.JPG', './datasets/FGNET/images/080A03.JPG', './datasets/FGNET/images/080A04.JPG', './datasets/FGNET/images/080A05.JPG', './datasets/FGNET/images/080A06.JPG', './datasets/FGNET/images/080A07.JPG', './datasets/FGNET/images/080A08.JPG', './datasets/FGNET/images/080A09.JPG', './datasets/FGNET/images/080A10.JPG', './datasets/FGNET/images/080A12.JPG', './datasets/FGNET/images/080A13.JPG', './datasets/FGNET/images/080A14.JPG', './datasets/FGNET/images/081A00.JPG', './datasets/FGNET/images/081A01.JPG', './datasets/FGNET/images/081A02.JPG', './datasets/FGNET/images/081A03.JPG', './datasets/FGNET/images/081A04.JPG', './datasets/FGNET/images/081A05.JPG', './datasets/FGNET/images/081A06.JPG', './datasets/FGNET/images/081A07.JPG', './datasets/FGNET/images/081A08.JPG', './datasets/FGNET/images/081A10.JPG', './datasets/FGNET/images/081A11.JPG', './datasets/FGNET/images/081A12.JPG', './datasets/FGNET/images/082A00.JPG', './datasets/FGNET/images/082A03.JPG', './datasets/FGNET/images/082A16.JPG', './datasets/FGNET/images/082A18.JPG', './datasets/FGNET/images/082A20.JPG', './datasets/FGNET/images/082A21.JPG', './datasets/FGNET/images/082A22.JPG', './datasets/FGNET/images/082A23.JPG', './datasets/FGNET/images/082A25.JPG', './datasets/FGNET/images/082A27.JPG', './datasets/FGNET/images/082A31.JPG']\n"
     ]
    }
   ],
   "source": [
    "import glob\n",
    "img_list = glob.glob('./datasets/FGNET/images/*')\n",
    "img_list.sort()\n",
    "print(img_list)"
   ]
  },
  {
   "cell_type": "code",
   "execution_count": 6,
   "metadata": {},
   "outputs": [
    {
     "name": "stderr",
     "output_type": "stream",
     "text": [
      "  5%|▌         | 51/1002 [00:02<00:49, 19.22it/s]"
     ]
    },
    {
     "name": "stdout",
     "output_type": "stream",
     "text": [
      "./datasets/FGNET/images/057A00.JPG\n"
     ]
    },
    {
     "name": "stderr",
     "output_type": "stream",
     "text": [
      " 54%|█████▍    | 541/1002 [00:34<00:28, 16.11it/s]"
     ]
    },
    {
     "name": "stdout",
     "output_type": "stream",
     "text": [
      "./datasets/FGNET/images/050A00.JPG\n"
     ]
    },
    {
     "name": "stderr",
     "output_type": "stream",
     "text": [
      " 72%|███████▏  | 725/1002 [00:45<00:14, 19.62it/s]"
     ]
    },
    {
     "name": "stdout",
     "output_type": "stream",
     "text": [
      "./datasets/FGNET/images/014A03.JPG\n"
     ]
    },
    {
     "name": "stderr",
     "output_type": "stream",
     "text": [
      "100%|██████████| 1002/1002 [01:00<00:00, 16.51it/s]\n"
     ]
    }
   ],
   "source": [
    "import glob\n",
    "img_list = glob.glob('./datasets/FGNET/images/*')\n",
    "img_list = sort(img_list)\n",
    "\n",
    "from PIL import Image\n",
    "from torchvision.transforms import transforms\n",
    "from tqdm import tqdm\n",
    "embeddings = []\n",
    "names = []\n",
    "for img in tqdm(img_list):\n",
    "    img_mat = Image.open(img).convert('RGB')\n",
    "#     img_mat = (transforms.ToTensor())(img_mat)\n",
    "#     img_mat = img_mat.to(device)\n",
    "    x_aligned, prob = mtcnn(img_mat, return_prob=True)\n",
    "    if x_aligned is not None:\n",
    "#         print('Face detected with probability: {:8f}'.format(prob))\n",
    "        x_aligned = x_aligned.unsqueeze(0).to(device)\n",
    "        embeddings.append(resnet(x_aligned).detach().cpu())\n",
    "        names.append(img.split('/')[-1].split('.')[0])\n",
    "    else:\n",
    "        print(img)\n",
    "#         print(names.append(img.split('/')[-1].split('.')[0]))"
   ]
  },
  {
   "cell_type": "code",
   "execution_count": 7,
   "metadata": {},
   "outputs": [],
   "source": [
    "embeddings_mat = torch.stack(embeddings)\n",
    "embeddings_mat = embeddings_mat.squeeze().numpy()"
   ]
  },
  {
   "cell_type": "code",
   "execution_count": 8,
   "metadata": {},
   "outputs": [],
   "source": [
    "import scipy.io as sio\n",
    "sio.savemat('face_embedding.mat', {'embeddings':embeddings_mat, 'names':names})"
   ]
  },
  {
   "cell_type": "code",
   "execution_count": 9,
   "metadata": {},
   "outputs": [],
   "source": [
    "E = sio.loadmat('face_embedding.mat')"
   ]
  },
  {
   "cell_type": "code",
   "execution_count": 10,
   "metadata": {},
   "outputs": [
    {
     "data": {
      "text/plain": [
       "(999, 512)"
      ]
     },
     "execution_count": 10,
     "metadata": {},
     "output_type": "execute_result"
    }
   ],
   "source": [
    "E['embeddings'].shape"
   ]
  },
  {
   "cell_type": "code",
   "execution_count": 11,
   "metadata": {},
   "outputs": [
    {
     "data": {
      "text/plain": [
       "999"
      ]
     },
     "execution_count": 11,
     "metadata": {},
     "output_type": "execute_result"
    }
   ],
   "source": [
    "len(list(E['names']))"
   ]
  },
  {
   "cell_type": "code",
   "execution_count": 17,
   "metadata": {},
   "outputs": [
    {
     "data": {
      "text/plain": [
       "torch.Size([512])"
      ]
     },
     "execution_count": 17,
     "metadata": {},
     "output_type": "execute_result"
    }
   ],
   "source": [
    "torch.FloatTensor(E['embeddings'][0]).size()"
   ]
  },
  {
   "cell_type": "code",
   "execution_count": 18,
   "metadata": {},
   "outputs": [
    {
     "data": {
      "text/plain": [
       "999"
      ]
     },
     "execution_count": 18,
     "metadata": {},
     "output_type": "execute_result"
    }
   ],
   "source": [
    "len(list(E['names']))"
   ]
  },
  {
   "cell_type": "code",
   "execution_count": 34,
   "metadata": {},
   "outputs": [
    {
     "data": {
      "text/plain": [
       "57"
      ]
     },
     "execution_count": 34,
     "metadata": {},
     "output_type": "execute_result"
    }
   ],
   "source": [
    "# person_index\n",
    "int(E['names'][0][0:3])"
   ]
  },
  {
   "cell_type": "code",
   "execution_count": 53,
   "metadata": {},
   "outputs": [
    {
     "data": {
      "text/plain": [
       "torch.Size([3])"
      ]
     },
     "execution_count": 53,
     "metadata": {},
     "output_type": "execute_result"
    }
   ],
   "source": [
    "# age\n",
    "int(E['names'][14][4:6])"
   ]
  },
  {
   "cell_type": "code",
   "execution_count": null,
   "metadata": {},
   "outputs": [],
   "source": [
    "for i, e in enumerate(embeddings):\n",
    "    if len(e.shape)>2:\n",
    "        print(i)"
   ]
  },
  {
   "cell_type": "code",
   "execution_count": 13,
   "metadata": {},
   "outputs": [],
   "source": [
    "def collate_fn(x):\n",
    "    return x[0]\n",
    "\n",
    "dataset = datasets.ImageFolder('./datasets/FGNET_per_person')\n",
    "dataset.idx_to_class = {i:c for c, i in dataset.class_to_idx.items()}\n",
    "loader = DataLoader(dataset, collate_fn=collate_fn, num_workers=workers)"
   ]
  },
  {
   "cell_type": "code",
   "execution_count": 14,
   "metadata": {},
   "outputs": [
    {
     "name": "stdout",
     "output_type": "stream",
     "text": [
      "Face detected with probability: 0.999298\n",
      "Face detected with probability: 0.999659\n",
      "Face detected with probability: 0.994806\n",
      "Face detected with probability: 0.999999\n",
      "Face detected with probability: 0.998275\n",
      "Face detected with probability: 0.999739\n",
      "Face detected with probability: 0.985511\n",
      "Face detected with probability: 0.997530\n",
      "Face detected with probability: 0.999390\n",
      "Face detected with probability: 0.999995\n",
      "Face detected with probability: 0.999997\n",
      "Face detected with probability: 0.999576\n",
      "Face detected with probability: 0.999994\n",
      "Face detected with probability: 0.999977\n",
      "Face detected with probability: 0.999935\n"
     ]
    }
   ],
   "source": [
    "aligned = []\n",
    "names = []\n",
    "for x, y in loader:\n",
    "    x_aligned, prob = mtcnn(x, return_prob=True)\n",
    "    if x_aligned is not None:\n",
    "        print('Face detected with probability: {:8f}'.format(prob))\n",
    "        aligned.append(x_aligned)\n",
    "        names.append(dataset.idx_to_class[y])"
   ]
  },
  {
   "cell_type": "code",
   "execution_count": 15,
   "metadata": {},
   "outputs": [],
   "source": [
    "aligned = torch.stack(aligned).to(device)\n",
    "embeddings = resnet(aligned).detach().cpu()"
   ]
  },
  {
   "cell_type": "code",
   "execution_count": 16,
   "metadata": {},
   "outputs": [
    {
     "data": {
      "text/plain": [
       "['001',\n",
       " '001',\n",
       " '001',\n",
       " '001',\n",
       " '001',\n",
       " '001',\n",
       " '001',\n",
       " '001',\n",
       " '001',\n",
       " '001',\n",
       " '001',\n",
       " '001',\n",
       " '001',\n",
       " '001',\n",
       " '001']"
      ]
     },
     "execution_count": 16,
     "metadata": {},
     "output_type": "execute_result"
    }
   ],
   "source": [
    "names"
   ]
  },
  {
   "cell_type": "code",
   "execution_count": 17,
   "metadata": {},
   "outputs": [
    {
     "name": "stdout",
     "output_type": "stream",
     "text": [
      "torch.Size([15, 512])\n"
     ]
    }
   ],
   "source": [
    "print(embeddings.size())"
   ]
  },
  {
   "cell_type": "code",
   "execution_count": 18,
   "metadata": {},
   "outputs": [
    {
     "data": {
      "text/plain": [
       "array([-5.13848513e-02,  6.01241402e-02,  1.37310950e-02, -3.80063355e-02,\n",
       "       -3.27245868e-03,  3.95311452e-02,  3.05108856e-02, -1.10700671e-02,\n",
       "       -7.98700936e-03,  1.57174040e-02,  1.43071428e-01, -6.48481166e-03,\n",
       "        7.78135955e-02, -7.14392588e-03, -3.88496928e-03,  2.03087390e-03,\n",
       "        2.27166452e-02,  4.73824814e-02, -2.02051047e-02, -2.54703742e-02,\n",
       "        1.39899636e-02, -3.74177098e-02, -1.50832755e-03, -6.56636357e-02,\n",
       "       -3.40746120e-02, -6.50594160e-02, -4.65669222e-02, -3.04528177e-02,\n",
       "       -3.84333655e-02,  5.18139377e-02,  2.98517942e-02,  2.51667388e-02,\n",
       "        5.53532615e-02,  2.17218883e-02,  4.16480266e-02,  5.16047552e-02,\n",
       "        3.71043161e-02,  2.20369454e-02,  2.67500691e-02,  2.89999954e-02,\n",
       "       -3.33624259e-02, -7.06516504e-02,  2.10866798e-02,  2.54906826e-02,\n",
       "       -2.78093275e-02,  2.49276799e-03, -2.62248470e-03, -2.05740449e-03,\n",
       "        1.04384087e-02, -4.39664163e-02, -3.13088186e-02, -5.61196208e-02,\n",
       "       -1.47552872e-02,  4.58270051e-02,  1.96578186e-02, -2.50808541e-02,\n",
       "        1.05858361e-02,  4.62209918e-02, -4.74710017e-02,  1.35431048e-02,\n",
       "        3.21562998e-02,  4.38426398e-02, -5.00600412e-02, -2.27314886e-02,\n",
       "       -3.42662558e-02, -2.93314848e-02,  6.20927755e-03, -3.04962434e-02,\n",
       "        8.74795485e-03,  5.53334318e-02,  2.49466542e-02, -1.40927145e-02,\n",
       "       -4.09379601e-02, -8.03326294e-02, -5.07620536e-03, -2.02051383e-02,\n",
       "       -5.54472990e-02,  4.92164046e-02,  6.55297423e-03, -1.58014521e-02,\n",
       "       -6.94470927e-02, -2.58408324e-03,  5.79393050e-03, -4.58551086e-02,\n",
       "        2.26762015e-02, -2.47967932e-02,  4.67390614e-03,  6.59762397e-02,\n",
       "        3.26573998e-02, -2.34868756e-04, -5.35074212e-02, -1.13061918e-02,\n",
       "       -9.71343294e-02, -3.55147640e-03,  1.20973557e-01, -4.56067994e-02,\n",
       "        6.76807074e-04,  4.07778984e-03, -5.12278676e-02,  5.69524430e-02,\n",
       "        1.77482944e-02,  3.00682038e-02,  1.75451152e-02,  1.01870541e-02,\n",
       "        2.11407822e-02,  2.43109316e-02,  1.92083865e-02, -1.67911425e-02,\n",
       "       -1.98712144e-02,  2.49734335e-02, -7.77861550e-02,  6.91648051e-02,\n",
       "       -2.29161810e-02, -1.05134226e-01, -5.85380346e-02,  2.52612010e-02,\n",
       "        5.15836924e-02,  5.80078587e-02,  1.73280686e-02, -1.28754473e-03,\n",
       "       -4.15351316e-02, -4.30908762e-02, -3.63003165e-02,  2.99723912e-02,\n",
       "       -3.74343693e-02,  4.13494185e-02, -3.96959111e-02,  9.24044289e-03,\n",
       "        7.09798944e-04, -2.93225963e-02,  1.18765328e-02,  4.19646502e-02,\n",
       "        3.31790075e-02, -3.21284607e-02,  1.02326505e-01,  1.83029063e-02,\n",
       "        8.76426231e-03,  2.43366100e-02, -3.47790644e-02, -9.90247447e-03,\n",
       "        9.73839406e-03, -3.09805591e-02, -5.24078682e-02,  2.33412138e-04,\n",
       "       -8.75016451e-02,  4.49347831e-02, -1.11062638e-02, -1.44507922e-03,\n",
       "        2.09984835e-02,  6.19830713e-02,  8.47753435e-02, -7.40339383e-02,\n",
       "       -4.05327231e-02,  2.04670615e-03,  6.20344989e-02,  3.36869285e-02,\n",
       "       -5.21787852e-02,  4.72333916e-02,  5.14394492e-02, -8.35351180e-03,\n",
       "       -4.15716954e-02,  4.67794714e-04, -4.01702821e-02,  9.78484228e-02,\n",
       "       -1.01457238e-02, -5.34390099e-02,  2.41883770e-02, -2.20242552e-02,\n",
       "        5.36448881e-02,  3.50754149e-02,  1.22035948e-04,  1.74850896e-02,\n",
       "       -5.40876314e-02, -1.54377229e-03, -6.67888001e-02,  1.75130125e-02,\n",
       "        2.31714919e-02, -2.04526633e-02,  1.09883153e-03, -1.02719970e-01,\n",
       "       -2.83609554e-02, -8.87889694e-03,  2.11531483e-02,  5.57610355e-02,\n",
       "        1.33627700e-02,  5.83627000e-02,  1.11358196e-01,  8.56086314e-02,\n",
       "       -4.94680926e-02, -2.99568810e-02,  2.40878016e-02,  1.63866673e-02,\n",
       "        3.52124497e-02, -5.51485410e-03,  7.66331982e-03, -6.17368743e-02,\n",
       "       -2.67620478e-02, -9.24008340e-03,  3.00221681e-03, -7.11517688e-03,\n",
       "        2.23163981e-02, -7.13372929e-03,  7.93219656e-02, -1.59235485e-02,\n",
       "        5.92691242e-04,  8.52126852e-02, -8.09893608e-02, -2.83679478e-02,\n",
       "       -1.64720472e-02, -6.44621104e-02, -6.46330416e-02, -7.20677376e-02,\n",
       "       -3.71464342e-03, -2.49516498e-02, -2.16091350e-02, -8.41698572e-02,\n",
       "        6.13677800e-02,  1.98067408e-02,  8.36234912e-02,  6.16759174e-02,\n",
       "        1.73460357e-02,  1.33234728e-02, -4.79132752e-04, -1.60199478e-02,\n",
       "        4.21919450e-02, -4.40181904e-02,  1.67228095e-02,  1.41022978e-02,\n",
       "       -1.32429957e-01,  4.45769206e-02, -3.42637524e-02,  8.93451720e-02,\n",
       "       -7.03854784e-02,  1.28828231e-02,  5.87670952e-02,  5.39151067e-03,\n",
       "        4.72595692e-02, -3.17372605e-02, -6.60504913e-03, -1.10647809e-02,\n",
       "       -4.17922996e-02,  6.64586872e-02,  5.51579483e-02,  3.23181450e-02,\n",
       "        1.40095642e-02, -5.02822287e-02, -1.45867104e-02, -1.79118793e-02,\n",
       "        1.70321520e-02,  2.31486913e-02, -1.39936302e-02, -3.95880714e-02,\n",
       "       -7.00904103e-03, -1.84200574e-02, -5.74487895e-02, -1.96595734e-04,\n",
       "        6.16514273e-02,  1.43264718e-02,  4.54333499e-02,  2.84463950e-02,\n",
       "        1.89389680e-02, -4.26554307e-02,  6.86291754e-02,  5.54909147e-02,\n",
       "       -3.36241089e-02, -5.10261059e-02,  1.91402510e-02,  2.03447398e-02,\n",
       "        1.17868986e-02, -5.16960807e-02,  3.03572454e-02, -3.87298912e-02,\n",
       "       -1.77192967e-02,  6.17112294e-02, -4.65927050e-02, -1.64997410e-02,\n",
       "       -4.90946323e-03, -4.05460373e-02, -6.58784509e-02, -9.78201851e-02,\n",
       "       -2.62790043e-02,  7.38406628e-02,  1.23998681e-02,  1.44139247e-03,\n",
       "       -1.98453125e-02, -3.35540064e-02,  3.80442888e-02, -6.85940087e-02,\n",
       "       -5.38593903e-02, -8.90575871e-02,  2.28766799e-02,  9.99115501e-03,\n",
       "       -1.79393627e-02, -6.42381469e-03,  1.31522701e-03, -4.45072316e-02,\n",
       "        9.75564867e-02,  4.22877260e-03,  4.83908728e-02, -1.31934434e-02,\n",
       "        3.27748954e-02,  3.34007181e-02, -4.88150716e-02, -4.72947210e-02,\n",
       "        2.35363953e-02,  1.57425422e-02, -2.19618175e-02,  9.98347998e-03,\n",
       "        9.65556875e-03,  3.51147130e-02,  3.61419283e-02, -1.97902247e-02,\n",
       "        3.79612260e-02, -4.18444872e-02,  6.11811914e-02, -2.47397833e-02,\n",
       "        3.23179294e-04, -1.14224181e-02, -2.31460687e-02, -8.26420486e-02,\n",
       "       -4.48423475e-02,  2.90129427e-03, -9.16924626e-02,  3.93675407e-03,\n",
       "       -3.29311285e-03,  7.32209831e-02,  3.31709832e-02,  8.86880383e-02,\n",
       "        1.12142533e-01,  3.30381468e-02,  2.21059807e-02,  3.41577306e-02,\n",
       "       -7.58039281e-02, -2.98498347e-02, -1.42099969e-02,  2.78242584e-02,\n",
       "        2.25028899e-02, -3.86893973e-02, -5.09747677e-02,  3.74437757e-02,\n",
       "       -8.96953046e-04, -4.85298336e-02, -6.57754811e-03,  3.16867605e-03,\n",
       "       -3.76696771e-05,  4.38876748e-02, -2.14154553e-02, -2.00604480e-02,\n",
       "       -1.30769471e-02, -4.90479842e-02,  1.76975187e-02,  7.37039074e-02,\n",
       "       -2.33831699e-03,  1.51189305e-02,  5.58055304e-02, -8.01393855e-03,\n",
       "        8.87656957e-02,  7.64794275e-02, -6.36906829e-03, -6.86601922e-02,\n",
       "       -5.96763082e-02,  2.42249444e-02, -1.17403142e-01, -8.14939439e-02,\n",
       "        8.44294671e-04,  8.32071342e-03,  3.76590528e-03,  6.60014153e-02,\n",
       "       -8.57161954e-02,  3.35091166e-02, -5.23674935e-02, -6.24571517e-02,\n",
       "       -3.34190880e-03,  2.94777732e-02,  2.43050363e-02, -3.66814137e-02,\n",
       "        9.24954638e-02, -2.48463172e-02, -7.52650574e-02, -3.93177159e-02,\n",
       "        6.16925620e-02, -7.40485340e-02, -2.62457095e-02, -4.44114879e-02,\n",
       "        2.32616756e-02, -3.25591862e-02, -2.88639814e-02, -2.40452234e-02,\n",
       "       -4.07247245e-02,  4.25702631e-02,  1.95943695e-02,  5.16756885e-02,\n",
       "       -4.49811295e-02,  1.79456361e-02,  3.07958643e-03, -1.78041197e-02,\n",
       "       -2.57853884e-02, -2.47519440e-03,  1.08383466e-02,  7.88648948e-02,\n",
       "       -2.55883690e-02,  3.32382731e-02,  1.03778765e-01,  4.75993147e-03,\n",
       "        2.47873440e-02,  4.02180813e-02,  5.95211498e-02, -3.63174127e-03,\n",
       "        4.31144238e-02, -4.09502573e-02,  2.42703548e-03, -7.40536116e-03,\n",
       "       -2.96166949e-02,  2.10675672e-02, -8.34094808e-02,  3.02575007e-02,\n",
       "       -1.56062283e-02,  1.75227653e-02,  3.76555994e-02, -1.09003410e-02,\n",
       "        5.82356341e-02, -5.71977273e-02, -7.34303743e-02,  3.88168320e-02,\n",
       "       -6.25065435e-03,  7.70991743e-02,  3.83484699e-02, -1.20187188e-02,\n",
       "       -6.01639878e-03,  8.15795437e-02, -1.36860870e-02,  3.01010981e-02,\n",
       "       -1.09206000e-02,  3.04121571e-03,  7.81106353e-02,  3.75845656e-02,\n",
       "       -6.14731908e-02, -3.92631367e-02, -4.17972058e-02, -6.18783534e-02,\n",
       "        5.80907473e-03, -1.17869899e-02,  9.28033367e-02,  1.20161697e-02,\n",
       "        4.09213789e-02, -1.84509903e-02,  1.15923788e-02,  2.87134312e-02,\n",
       "       -5.10909334e-02,  2.58801356e-02, -1.07482160e-02,  1.20161531e-04,\n",
       "        2.66378876e-02, -4.37508300e-02, -3.56625430e-02,  4.06013988e-03,\n",
       "       -4.84524071e-02,  1.08834997e-01, -1.77919064e-02,  7.67481420e-03,\n",
       "       -3.01417783e-02,  7.41656944e-02,  6.30844310e-02, -1.33374752e-03,\n",
       "       -1.30832978e-02,  2.70818360e-02, -2.26750020e-02,  4.00875919e-02,\n",
       "       -4.89598885e-02, -5.06902523e-02,  9.97150782e-05, -1.03886031e-01,\n",
       "        9.71867796e-03, -6.22098101e-03, -4.05041315e-02, -1.48214838e-02,\n",
       "       -1.28698554e-02,  5.15435040e-02, -2.47914139e-02, -3.90920714e-02,\n",
       "        4.71905768e-02, -6.68047369e-02, -1.52707174e-02, -6.52994365e-02,\n",
       "       -2.53765173e-02,  8.31987932e-02,  1.10397069e-03, -1.05444537e-02,\n",
       "        1.26077351e-03, -2.48339027e-02, -2.85894312e-02,  3.28929489e-03,\n",
       "       -5.70537634e-02,  3.04269884e-02,  8.06379505e-03, -1.63605940e-02,\n",
       "        2.24488825e-02,  2.77148113e-02,  2.84746964e-03, -5.99519350e-03,\n",
       "       -5.30791916e-02, -5.75261004e-02,  1.26937330e-01, -2.11639721e-02,\n",
       "       -1.73260346e-02,  3.60208042e-02,  4.55026962e-02,  3.17770801e-02,\n",
       "        3.14672925e-02,  1.51066436e-02, -6.97652921e-02,  8.80414695e-02],\n",
       "      dtype=float32)"
      ]
     },
     "execution_count": 18,
     "metadata": {},
     "output_type": "execute_result"
    }
   ],
   "source": [
    "embeddings[0].numpy()"
   ]
  },
  {
   "cell_type": "code",
   "execution_count": 19,
   "metadata": {},
   "outputs": [],
   "source": [
    "import csv\n",
    "\n",
    "f = open('./datasets/FGNET_per_person/1.csv','w',encoding='utf-8')\n",
    "csv_writer = csv.writer(f)\n",
    "\n",
    "for i in range(embeddings.size()[0]):\n",
    "    csv_writer.writerow(embeddings[i].numpy())\n",
    "    \n",
    "f.close()"
   ]
  },
  {
   "cell_type": "code",
   "execution_count": 20,
   "metadata": {},
   "outputs": [
    {
     "ename": "NameError",
     "evalue": "name 'im' is not defined",
     "output_type": "error",
     "traceback": [
      "\u001b[0;31m---------------------------------------------------------------------------\u001b[0m",
      "\u001b[0;31mNameError\u001b[0m                                 Traceback (most recent call last)",
      "\u001b[0;32m<ipython-input-20-e371e598fe9f>\u001b[0m in \u001b[0;36m<module>\u001b[0;34m\u001b[0m\n\u001b[0;32m----> 1\u001b[0;31m \u001b[0mim\u001b[0m\u001b[0;34m\u001b[0m\u001b[0m\n\u001b[0m",
      "\u001b[0;31mNameError\u001b[0m: name 'im' is not defined"
     ]
    }
   ],
   "source": [
    "im"
   ]
  }
 ],
 "metadata": {
  "kernelspec": {
   "display_name": "Python 3",
   "language": "python",
   "name": "python3"
  },
  "language_info": {
   "codemirror_mode": {
    "name": "ipython",
    "version": 3
   },
   "file_extension": ".py",
   "mimetype": "text/x-python",
   "name": "python",
   "nbconvert_exporter": "python",
   "pygments_lexer": "ipython3",
   "version": "3.6.5"
  }
 },
 "nbformat": 4,
 "nbformat_minor": 4
}
