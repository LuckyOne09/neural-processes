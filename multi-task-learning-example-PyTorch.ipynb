{
 "cells": [
  {
   "cell_type": "code",
   "execution_count": 1,
   "metadata": {
    "collapsed": true,
    "pycharm": {
     "is_executing": false
    }
   },
   "outputs": [],
   "source": [
    "import math\n",
    "\n",
    "import pylab\n",
    "import numpy as np\n",
    "\n",
    "import torch\n",
    "import torch.nn as nn\n",
    "from torch.utils.data import Dataset, DataLoader\n",
    "\n",
    "\n",
    "def gen_data(N):\n",
    "    #X.size(): (N,1)\n",
    "    X = np.random.randn(N, 1)\n",
    "    w1 = 2.\n",
    "    b1 = 8.\n",
    "    sigma1 = 1e1  # ground truth\n",
    "    Y1 = X.dot(w1) + b1 + sigma1 * np.random.randn(N, 1)\n",
    "    w2 = 3\n",
    "    b2 = 3.\n",
    "    sigma2 = 1e0  # ground truth\n",
    "    Y2 = X.dot(w2) + b2 + sigma2 * np.random.randn(N, 1)\n",
    "    return X, Y1, Y2\n",
    "\n",
    "\n",
    "class TrainData(Dataset):\n",
    "\n",
    "    def __init__(self, feature_num, X, Y1, Y2):\n",
    "\n",
    "        self.feature_num = feature_num\n",
    "\n",
    "        self.X = torch.tensor(X, dtype=torch.float32)\n",
    "        self.Y1 = torch.tensor(Y1, dtype=torch.float32)\n",
    "        self.Y2 = torch.tensor(Y2, dtype=torch.float32)\n",
    "\n",
    "    def __len__(self):\n",
    "        return self.feature_num\n",
    "\n",
    "    def __getitem__(self, idx):\n",
    "        return self.X[idx,:], self.Y1[idx,:], self.Y2[idx,:]\n",
    "\n",
    "\n",
    "class MultiTaskLossWrapper(nn.Module):\n",
    "    def __init__(self, task_num, model):\n",
    "        super(MultiTaskLossWrapper, self).__init__()\n",
    "        self.model = model\n",
    "        self.task_num = task_num\n",
    "        self.log_vars = nn.Parameter(torch.zeros((task_num)))\n",
    "\n",
    "    def forward(self, input, targets):\n",
    "\n",
    "        outputs = self.model(input)\n",
    "\n",
    "        precision1 = torch.exp(-self.log_vars[0])\n",
    "        loss = torch.sum(precision1 * (targets[0] - outputs[0]) ** 2. + self.log_vars[0], -1)\n",
    "\n",
    "        precision2 = torch.exp(-self.log_vars[1])\n",
    "        loss += torch.sum(precision2 * (targets[1] - outputs[1]) ** 2. + self.log_vars[1], -1)\n",
    "\n",
    "        loss = torch.mean(loss)\n",
    "\n",
    "        return loss, self.log_vars.data.tolist()\n",
    "\n",
    "\n",
    "class MTLModel(torch.nn.Module):\n",
    "    def __init__(self, n_hidden, n_output):\n",
    "        super(MTLModel, self).__init__()\n",
    "\n",
    "        self.net1 = nn.Sequential(nn.Linear(1, n_hidden), nn.ReLU(), nn.Linear(n_hidden, n_output))\n",
    "        self.net2 = nn.Sequential(nn.Linear(1, n_hidden), nn.ReLU(), nn.Linear(n_hidden, n_output))\n",
    "\n",
    "    def forward(self, x):\n",
    "        return [self.net1(x), self.net2(x)]"
   ]
  },
  {
   "cell_type": "code",
   "execution_count": 2,
   "outputs": [
    {
     "data": {
      "text/plain": "<Figure size 216x108 with 1 Axes>",
      "image/png": "[encoded data removed]"
     },
     "metadata": {
      "needs_background": "light"
     },
     "output_type": "display_data"
    }
   ],
   "source": [
    "np.random.seed(0)\n",
    "\n",
    "feature_num = 100\n",
    "nb_epoch = 2000\n",
    "batch_size = 20\n",
    "hidden_dim = 1024\n",
    "\n",
    "X, Y1, Y2 = gen_data(feature_num)\n",
    "pylab.figure(figsize=(3, 1.5))\n",
    "pylab.scatter(X[:, 0], Y1[:, 0])\n",
    "pylab.scatter(X[:, 0], Y2[:, 0])\n",
    "pylab.show()"
   ],
   "metadata": {
    "collapsed": false,
    "pycharm": {
     "name": "#%%\n",
     "is_executing": false
    }
   }
  },
  {
   "cell_type": "code",
   "execution_count": 3,
   "outputs": [],
   "source": [
    "train_data = TrainData(feature_num, X, Y1, Y2)\n",
    "train_data_loader = DataLoader(train_data, shuffle=True, batch_size=batch_size)\n",
    "\n",
    "model = MTLModel(hidden_dim, 1)\n",
    "\n",
    "mtl = MultiTaskLossWrapper(2, model)\n",
    "mtl\n",
    "\n",
    "# https://github.com/keras-team/keras/blob/master/keras/optimizers.py\n",
    "# k.epsilon() = keras.backend.epsilon()\n",
    "optimizer = torch.optim.Adam(mtl.parameters(), lr=0.001, eps=1e-07)\n",
    "\n",
    "loss_list = []\n",
    "for t in range(nb_epoch):\n",
    "    cumulative_loss = 0\n",
    "    \n",
    "    for X, Y1, Y2 in train_data_loader:\n",
    "\n",
    "        loss, log_vars = mtl(X, [Y1, Y2])\n",
    "\n",
    "        optimizer.zero_grad()\n",
    "        loss.backward()\n",
    "        optimizer.step()\n",
    "\n",
    "        cumulative_loss += loss.item()\n",
    "\n",
    "    loss_list.append(cumulative_loss/batch_size)"
   ],
   "metadata": {
    "collapsed": false,
    "pycharm": {
     "name": "#%%\n",
     "is_executing": false
    }
   }
  },
  {
   "cell_type": "code",
   "execution_count": 4,
   "outputs": [
    {
     "data": {
      "text/plain": "<Figure size 432x288 with 1 Axes>",
      "image/png": "[encoded data removed]"
     },
     "metadata": {
      "needs_background": "light"
     },
     "output_type": "display_data"
    }
   ],
   "source": [
    "pylab.plot(loss_list)\n",
    "pylab.show()\n",
    "\n"
   ],
   "metadata": {
    "collapsed": false,
    "pycharm": {
     "name": "#%%\n",
     "is_executing": false
    }
   }
  },
  {
   "cell_type": "code",
   "execution_count": null,
   "outputs": [],
   "source": [
    "print(log_vars)"
   ],
   "metadata": {
    "collapsed": false,
    "pycharm": {
     "name": "#%%\n"
    }
   }
  },
  {
   "cell_type": "code",
   "execution_count": null,
   "outputs": [],
   "source": [
    "# Found standard deviations (ground truth is 10 and 1):\n",
    "print([math.exp(log_var) ** 0.5 for log_var in log_vars])\n",
    "\n"
   ],
   "metadata": {
    "collapsed": false,
    "pycharm": {
     "name": "#%%\n"
    }
   }
  }
 ],
 "metadata": {
  "kernelspec": {
   "display_name": "Python 3",
   "language": "python",
   "name": "python3"
  },
  "language_info": {
   "codemirror_mode": {
    "name": "ipython",
    "version": 2
   },
   "file_extension": ".py",
   "mimetype": "text/x-python",
   "name": "python",
   "nbconvert_exporter": "python",
   "pygments_lexer": "ipython2",
   "version": "2.7.6"
  },
  "pycharm": {
   "stem_cell": {
    "cell_type": "raw",
    "source": [],
    "metadata": {
     "collapsed": false
    }
   }
  }
 },
 "nbformat": 4,
 "nbformat_minor": 0
}