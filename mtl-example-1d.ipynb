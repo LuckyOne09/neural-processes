{
 "cells": [
  {
   "cell_type": "code",
   "execution_count": null,
   "metadata": {
    "collapsed": true
   },
   "outputs": [],
   "source": [
    "import numpy as np\n",
    "import matplotlib.pyplot as plt\n",
    "import torch\n",
    "%matplotlib inline\n",
    "\n",
    "device = torch.device(\"cuda\" if torch.cuda.is_available() else \"cpu\")\n"
   ]
  },
  {
   "cell_type": "markdown",
   "source": [
    "## Neural Process for 1D functions\n",
    "\n",
    "This notebook shows how to train and sample from a Neural Process for a simple class of 1D functions in multi-task learning way\n",
    "There are 10 tasks.\n",
    "Each task's function is defined by f(x) = a * sin(x - b) where a and b are randomly sampled.\n",
    "In each task, there are 100 context points."
   ],
   "metadata": {
    "collapsed": false
   }
  },
  {
   "cell_type": "markdown",
   "source": [
    "### Visualize Data"
   ],
   "metadata": {
    "collapsed": false,
    "pycharm": {
     "name": "#%% md\n"
    }
   }
  },
  {
   "cell_type": "code",
   "execution_count": null,
   "outputs": [],
   "source": [
    "from datasets import SineData\n",
    "from math import pi\n",
    "\n",
    "# Create dataset\n",
    "dataset = SineData(amplitude_range=(-1., 1.),\n",
    "                   shift_range=(-.5, .5),\n",
    "                   num_samples=2000)\n",
    "#2000 different sine functions\n",
    "#each function have 100 points\n",
    "\n",
    "# Visualize data samples\n",
    "for i in range(64):\n",
    "    x, y = dataset[i] \n",
    "    plt.plot(x.numpy(), y.numpy(), c='b', alpha=0.5)\n",
    "    plt.xlim(-pi, pi)"
   ],
   "metadata": {
    "collapsed": false,
    "pycharm": {
     "name": "#%%\n"
    }
   }
  },
  {
   "cell_type": "code",
   "execution_count": null,
   "outputs": [],
   "source": [
    "\n"
   ],
   "metadata": {
    "collapsed": false,
    "pycharm": {
     "name": "#%%\n"
    }
   }
  }
 ],
 "metadata": {
  "kernelspec": {
   "display_name": "Python 3",
   "language": "python",
   "name": "python3"
  },
  "language_info": {
   "codemirror_mode": {
    "name": "ipython",
    "version": 2
   },
   "file_extension": ".py",
   "mimetype": "text/x-python",
   "name": "python",
   "nbconvert_exporter": "python",
   "pygments_lexer": "ipython2",
   "version": "2.7.6"
  },
  "pycharm": {
   "stem_cell": {
    "cell_type": "raw",
    "source": [],
    "metadata": {
     "collapsed": false
    }
   }
  }
 },
 "nbformat": 4,
 "nbformat_minor": 0
}